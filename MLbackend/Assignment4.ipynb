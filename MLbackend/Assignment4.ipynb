{
 "cells": [
  {
   "cell_type": "markdown",
   "metadata": {
    "id": "uCJA2HzrwWva"
   },
   "source": [
    "## Data Preprocessing"
   ]
  },
  {
   "cell_type": "code",
   "execution_count": 75,
   "metadata": {
    "id": "KIOgnEAvYBnC"
   },
   "outputs": [],
   "source": [
    "\n",
    "from sklearn.model_selection import train_test_split\n",
    "from sklearn.preprocessing import MinMaxScaler\n",
    "from sklearn.preprocessing import StandardScaler\n",
    "from sklearn.naive_bayes import GaussianNB\n",
    "from sklearn import metrics\n",
    "import pickle\n",
    "import seaborn as sns\n",
    "import matplotlib.pyplot as plt\n",
    "import numpy as np\n",
    "import pandas as pd"
   ]
  },
  {
   "cell_type": "code",
   "execution_count": 76,
   "metadata": {
    "colab": {
     "base_uri": "https://localhost:8080/"
    },
    "collapsed": true,
    "id": "PS5W-SqafAqg",
    "outputId": "d208cd25-b5ff-41e1-dac9-37701713a7e4"
   },
   "outputs": [],
   "source": [
    "data = pd.read_csv('diabetes.csv')"
   ]
  },
  {
   "cell_type": "markdown",
   "metadata": {},
   "source": [
    "### Visualising the parameters"
   ]
  },
  {
   "cell_type": "code",
   "execution_count": 77,
   "metadata": {},
   "outputs": [
    {
     "data": {
      "text/html": [
       "<div>\n",
       "<style scoped>\n",
       "    .dataframe tbody tr th:only-of-type {\n",
       "        vertical-align: middle;\n",
       "    }\n",
       "\n",
       "    .dataframe tbody tr th {\n",
       "        vertical-align: top;\n",
       "    }\n",
       "\n",
       "    .dataframe thead th {\n",
       "        text-align: right;\n",
       "    }\n",
       "</style>\n",
       "<table border=\"1\" class=\"dataframe\">\n",
       "  <thead>\n",
       "    <tr style=\"text-align: right;\">\n",
       "      <th></th>\n",
       "      <th>Glucose</th>\n",
       "      <th>Insulin</th>\n",
       "      <th>BMI</th>\n",
       "      <th>Age</th>\n",
       "      <th>Outcome</th>\n",
       "    </tr>\n",
       "  </thead>\n",
       "  <tbody>\n",
       "    <tr>\n",
       "      <th>0</th>\n",
       "      <td>148</td>\n",
       "      <td>0</td>\n",
       "      <td>33.6</td>\n",
       "      <td>50</td>\n",
       "      <td>1</td>\n",
       "    </tr>\n",
       "    <tr>\n",
       "      <th>1</th>\n",
       "      <td>85</td>\n",
       "      <td>0</td>\n",
       "      <td>26.6</td>\n",
       "      <td>31</td>\n",
       "      <td>0</td>\n",
       "    </tr>\n",
       "    <tr>\n",
       "      <th>2</th>\n",
       "      <td>183</td>\n",
       "      <td>0</td>\n",
       "      <td>23.3</td>\n",
       "      <td>32</td>\n",
       "      <td>1</td>\n",
       "    </tr>\n",
       "    <tr>\n",
       "      <th>3</th>\n",
       "      <td>89</td>\n",
       "      <td>94</td>\n",
       "      <td>28.1</td>\n",
       "      <td>21</td>\n",
       "      <td>0</td>\n",
       "    </tr>\n",
       "    <tr>\n",
       "      <th>4</th>\n",
       "      <td>137</td>\n",
       "      <td>168</td>\n",
       "      <td>43.1</td>\n",
       "      <td>33</td>\n",
       "      <td>1</td>\n",
       "    </tr>\n",
       "  </tbody>\n",
       "</table>\n",
       "</div>"
      ],
      "text/plain": [
       "   Glucose  Insulin   BMI  Age  Outcome\n",
       "0      148        0  33.6   50        1\n",
       "1       85        0  26.6   31        0\n",
       "2      183        0  23.3   32        1\n",
       "3       89       94  28.1   21        0\n",
       "4      137      168  43.1   33        1"
      ]
     },
     "execution_count": 77,
     "metadata": {},
     "output_type": "execute_result"
    }
   ],
   "source": [
    "data.head()"
   ]
  },
  {
   "cell_type": "code",
   "execution_count": 78,
   "metadata": {},
   "outputs": [
    {
     "data": {
      "text/html": [
       "<div>\n",
       "<style scoped>\n",
       "    .dataframe tbody tr th:only-of-type {\n",
       "        vertical-align: middle;\n",
       "    }\n",
       "\n",
       "    .dataframe tbody tr th {\n",
       "        vertical-align: top;\n",
       "    }\n",
       "\n",
       "    .dataframe thead th {\n",
       "        text-align: right;\n",
       "    }\n",
       "</style>\n",
       "<table border=\"1\" class=\"dataframe\">\n",
       "  <thead>\n",
       "    <tr style=\"text-align: right;\">\n",
       "      <th></th>\n",
       "      <th>Glucose</th>\n",
       "      <th>Insulin</th>\n",
       "      <th>BMI</th>\n",
       "      <th>Age</th>\n",
       "      <th>Outcome</th>\n",
       "    </tr>\n",
       "  </thead>\n",
       "  <tbody>\n",
       "    <tr>\n",
       "      <th>count</th>\n",
       "      <td>768.000000</td>\n",
       "      <td>768.000000</td>\n",
       "      <td>768.000000</td>\n",
       "      <td>768.000000</td>\n",
       "      <td>768.000000</td>\n",
       "    </tr>\n",
       "    <tr>\n",
       "      <th>mean</th>\n",
       "      <td>120.894531</td>\n",
       "      <td>79.799479</td>\n",
       "      <td>31.992578</td>\n",
       "      <td>33.240885</td>\n",
       "      <td>0.348958</td>\n",
       "    </tr>\n",
       "    <tr>\n",
       "      <th>std</th>\n",
       "      <td>31.972618</td>\n",
       "      <td>115.244002</td>\n",
       "      <td>7.884160</td>\n",
       "      <td>11.760232</td>\n",
       "      <td>0.476951</td>\n",
       "    </tr>\n",
       "    <tr>\n",
       "      <th>min</th>\n",
       "      <td>0.000000</td>\n",
       "      <td>0.000000</td>\n",
       "      <td>0.000000</td>\n",
       "      <td>21.000000</td>\n",
       "      <td>0.000000</td>\n",
       "    </tr>\n",
       "    <tr>\n",
       "      <th>25%</th>\n",
       "      <td>99.000000</td>\n",
       "      <td>0.000000</td>\n",
       "      <td>27.300000</td>\n",
       "      <td>24.000000</td>\n",
       "      <td>0.000000</td>\n",
       "    </tr>\n",
       "    <tr>\n",
       "      <th>50%</th>\n",
       "      <td>117.000000</td>\n",
       "      <td>30.500000</td>\n",
       "      <td>32.000000</td>\n",
       "      <td>29.000000</td>\n",
       "      <td>0.000000</td>\n",
       "    </tr>\n",
       "    <tr>\n",
       "      <th>75%</th>\n",
       "      <td>140.250000</td>\n",
       "      <td>127.250000</td>\n",
       "      <td>36.600000</td>\n",
       "      <td>41.000000</td>\n",
       "      <td>1.000000</td>\n",
       "    </tr>\n",
       "    <tr>\n",
       "      <th>max</th>\n",
       "      <td>199.000000</td>\n",
       "      <td>846.000000</td>\n",
       "      <td>67.100000</td>\n",
       "      <td>81.000000</td>\n",
       "      <td>1.000000</td>\n",
       "    </tr>\n",
       "  </tbody>\n",
       "</table>\n",
       "</div>"
      ],
      "text/plain": [
       "          Glucose     Insulin         BMI         Age     Outcome\n",
       "count  768.000000  768.000000  768.000000  768.000000  768.000000\n",
       "mean   120.894531   79.799479   31.992578   33.240885    0.348958\n",
       "std     31.972618  115.244002    7.884160   11.760232    0.476951\n",
       "min      0.000000    0.000000    0.000000   21.000000    0.000000\n",
       "25%     99.000000    0.000000   27.300000   24.000000    0.000000\n",
       "50%    117.000000   30.500000   32.000000   29.000000    0.000000\n",
       "75%    140.250000  127.250000   36.600000   41.000000    1.000000\n",
       "max    199.000000  846.000000   67.100000   81.000000    1.000000"
      ]
     },
     "execution_count": 78,
     "metadata": {},
     "output_type": "execute_result"
    }
   ],
   "source": [
    "data.describe()"
   ]
  },
  {
   "cell_type": "code",
   "execution_count": 79,
   "metadata": {},
   "outputs": [
    {
     "data": {
      "text/plain": [
       "Glucose    0\n",
       "Insulin    0\n",
       "BMI        0\n",
       "Age        0\n",
       "Outcome    0\n",
       "dtype: int64"
      ]
     },
     "execution_count": 79,
     "metadata": {},
     "output_type": "execute_result"
    }
   ],
   "source": [
    "data.isna().sum()"
   ]
  },
  {
   "cell_type": "code",
   "execution_count": 80,
   "metadata": {},
   "outputs": [
    {
     "data": {
      "text/plain": [
       "np.int64(0)"
      ]
     },
     "execution_count": 80,
     "metadata": {},
     "output_type": "execute_result"
    }
   ],
   "source": [
    "data.duplicated().sum()"
   ]
  },
  {
   "cell_type": "code",
   "execution_count": 81,
   "metadata": {},
   "outputs": [
    {
     "data": {
      "image/png": "[encoded data removed]",
      "text/plain": [
       "<Figure size 1500x1000 with 6 Axes>"
      ]
     },
     "metadata": {},
     "output_type": "display_data"
    }
   ],
   "source": [
    "data.hist(bins=30, figsize=(15, 10))\n",
    "plt.show()"
   ]
  },
  {
   "cell_type": "markdown",
   "metadata": {},
   "source": [
    "## Gaussian Naive Bayes Model\n"
   ]
  },
  {
   "cell_type": "code",
   "execution_count": 82,
   "metadata": {
    "id": "9ckBGSZcde9C"
   },
   "outputs": [],
   "source": [
    "X = data[['Age', 'Glucose', 'Insulin', 'BMI']]\n",
    "y = data['Outcome']\n",
    "\n",
    "X_train, X_test, y_train, y_test = train_test_split(X, y, test_size=0.2, random_state=42)\n",
    "scaler = MinMaxScaler()\n",
    "X_train = scaler.fit_transform(X_train)\n",
    "X_test = scaler.transform(X_test)\n",
    "\n",
    "# Training the model\n",
    "nb_model = GaussianNB().fit(X_train, y_train)\n",
    "\n",
    "y_pred_GaussianNB = nb_model.predict(X_test)"
   ]
  },
  {
   "cell_type": "markdown",
   "metadata": {
    "id": "lnnsRp2yim8c"
   },
   "source": [
    "## Custom Perceptron"
   ]
  },
  {
   "cell_type": "code",
   "execution_count": 83,
   "metadata": {
    "id": "33ggzmYKqFjO"
   },
   "outputs": [],
   "source": [
    "class CustomPerceptron:\n",
    "    def __init__(self, learning_rate=0.1, n_iters=10000):\n",
    "        self.learning_rate = learning_rate\n",
    "        self.n_iters = n_iters\n",
    "        self.weights = None\n",
    "        self.bias = None\n",
    "\n",
    "    def fit(self, X, y):\n",
    "        n_samples, n_features = X.shape\n",
    "        np.random.seed(63)\n",
    "        self.weights = np.random.rand(n_features)\n",
    "        self.bias = np.random.rand()\n",
    "\n",
    "        y_ = np.where(y <= 0, -1, 1)\n",
    "\n",
    "        for _ in range(self.n_iters):\n",
    "            for idx, x_i in enumerate(X):\n",
    "                linear_output = np.dot(x_i, self.weights) + self.bias\n",
    "                y_predicted = np.sign(linear_output)\n",
    "                if y_predicted == 0:\n",
    "                    y_predicted = -1\n",
    "\n",
    "                if y_predicted != y_[idx]:\n",
    "                    self.weights += self.learning_rate * y_[idx] * x_i\n",
    "                    self.bias += self.learning_rate * y_[idx]\n",
    "\n",
    "    def predict(self, X):\n",
    "        linear_output = np.dot(X, self.weights) + self.bias\n",
    "        return np.sign(linear_output)\n",
    "\n",
    "# Example Usage\n",
    "if __name__ == \"__main__\":\n",
    "    perceptron = CustomPerceptron(learning_rate=0.1, n_iters=10000)\n",
    "    perceptron.fit(X_train, y_train)\n",
    "\n",
    "    y_pred_perceptron = perceptron.predict(X_test)\n",
    "    y_pred_perceptron = np.where(y_pred_perceptron == -1, 0, 1)\n",
    "\n",
    "\n"
   ]
  },
  {
   "cell_type": "markdown",
   "metadata": {
    "id": "4UfbMEfBlPQp"
   },
   "source": [
    "## Evaluation"
   ]
  },
  {
   "cell_type": "code",
   "execution_count": 84,
   "metadata": {
    "colab": {
     "base_uri": "https://localhost:8080/"
    },
    "id": "4uegAodWsGzb",
    "outputId": "9e0e6970-4439-4351-8a3e-50498d57ffa6"
   },
   "outputs": [
    {
     "name": "stdout",
     "output_type": "stream",
     "text": [
      "Results for Gaussian NB:\n",
      "Accuracy: 0.75\n",
      "Precision: 0.75\n",
      "Recall: 0.75\n",
      "F1-Score: 0.75\n",
      "\n",
      "Results for Custom Perceptron:\n",
      "Accuracy: 0.78\n",
      "Precision: 0.78\n",
      "Recall: 0.78\n",
      "F1-Score: 0.77\n",
      "\n"
     ]
    }
   ],
   "source": [
    "from sklearn.metrics import accuracy_score, precision_score, recall_score, f1_score\n",
    "\n",
    "print(f\"Results for Gaussian NB:\")\n",
    "print(f\"Accuracy: {accuracy_score(y_test, y_pred_GaussianNB):.2f}\")\n",
    "print(f\"Precision: {precision_score(y_test, y_pred_GaussianNB, average='weighted'):.2f}\")\n",
    "print(f\"Recall: {recall_score(y_test,y_pred_GaussianNB, average='weighted'):.2f}\")\n",
    "print(f\"F1-Score: {f1_score(y_test, y_pred_GaussianNB, average='weighted'):.2f}\\n\")\n",
    "\n",
    "print(f\"Results for Custom Perceptron:\")\n",
    "print(f\"Accuracy: {accuracy_score(y_test, y_pred_perceptron):.2f}\")\n",
    "print(f\"Precision: {precision_score(y_test, y_pred_perceptron, average='weighted'):.2f}\")\n",
    "print(f\"Recall: {recall_score(y_test, y_pred_perceptron, average='weighted'):.2f}\")\n",
    "print(f\"F1-Score: {f1_score(y_test, y_pred_perceptron, average='weighted'):.2f}\\n\")"
   ]
  },
  {
   "cell_type": "code",
   "execution_count": 85,
   "metadata": {},
   "outputs": [
    {
     "data": {
      "text/plain": [
       "Text(0.5, 1.0, 'Confusion Matrix - Custom Perceptron Model')"
      ]
     },
     "execution_count": 85,
     "metadata": {},
     "output_type": "execute_result"
    },
    {
     "data": {
      "image/png": "[encoded data removed]",
      "text/plain": [
       "<Figure size 1200x500 with 4 Axes>"
      ]
     },
     "metadata": {},
     "output_type": "display_data"
    }
   ],
   "source": [
    "from sklearn.metrics import confusion_matrix,ConfusionMatrixDisplay\n",
    "\n",
    "naive_bayes_cm=confusion_matrix(y_test,y_pred_GaussianNB)\n",
    "perceptron_cm=confusion_matrix(y_test,y_pred_perceptron)\n",
    "\n",
    "\n",
    "fig, axes = plt.subplots(1, 2, figsize=(12, 5))\n",
    "naive_bayes_matrix=ConfusionMatrixDisplay(confusion_matrix=naive_bayes_cm, display_labels=nb_model.classes_)\n",
    "naive_bayes_matrix.plot(cmap=plt.cm.Blues, ax=axes[0])\n",
    "axes[0].set_title(\"Confusion Matrix - Gaussian Naive Bayes\")\n",
    "\n",
    "perceptron_matrix=ConfusionMatrixDisplay(confusion_matrix=perceptron_cm)\n",
    "perceptron_matrix.plot(cmap=plt.cm.Blues, ax=axes[1])\n",
    "axes[1].set_title(\"Confusion Matrix - Custom Perceptron Model\")\n"
   ]
  },
  {
   "cell_type": "markdown",
   "metadata": {
    "id": "5ExpzJi1uX7x"
   },
   "source": [
    "Gaussian NB and Perceptron shows similar accuracy, Precision, Recall and F1-Score on given dataset, while Custom Perceptron being slightly more effective on given dataset."
   ]
  },
  {
   "cell_type": "markdown",
   "metadata": {
    "id": "ujigtYiyFuUp"
   },
   "source": [
    "## Saving the model"
   ]
  },
  {
   "cell_type": "code",
   "execution_count": 86,
   "metadata": {
    "id": "Xks_sOALiTSN"
   },
   "outputs": [],
   "source": [
    "# Save models and scaler\n",
    "pickle.dump(nb_model, open('naive_bayes_model.pkl', 'wb'))\n",
    "pickle.dump(perceptron, open('perceptron_model.pkl', 'wb'))\n",
    "pickle.dump(scaler, open('MinMaxScaler.pkl', 'wb'))"
   ]
  },
  {
   "cell_type": "markdown",
   "metadata": {
    "id": "nF8xaWp6tY28"
   },
   "source": [
    "## K-fold Cross Validation"
   ]
  },
  {
   "cell_type": "code",
   "execution_count": 87,
   "metadata": {
    "id": "HLIewwPXBHG4"
   },
   "outputs": [],
   "source": [
    "from random import shuffle"
   ]
  },
  {
   "cell_type": "code",
   "execution_count": 88,
   "metadata": {
    "id": "4-lH3IK2lpeP"
   },
   "outputs": [],
   "source": [
    "\n",
    "X = data[['Age', 'Glucose', 'Insulin', 'BMI']].values\n",
    "y = data['Outcome'].values"
   ]
  },
  {
   "cell_type": "code",
   "execution_count": 89,
   "metadata": {
    "id": "aCrgy-_F2e6e"
   },
   "outputs": [],
   "source": [
    "scaler = MinMaxScaler()\n",
    "X = scaler.fit_transform(X)"
   ]
  },
  {
   "cell_type": "code",
   "execution_count": null,
   "metadata": {
    "colab": {
     "base_uri": "https://localhost:8080/"
    },
    "id": "br6RF1BPiAQ4",
    "outputId": "f655358d-57d9-4a9d-9881-0a27f35b86b5"
   },
   "outputs": [
    {
     "name": "stdout",
     "output_type": "stream",
     "text": [
      "Naive Bayes (5-Fold CV) Performance:\n",
      "                        Mean   Std Dev\n",
      "accuracy            0.755275  0.032813\n",
      "precision_weighted  0.748760  0.035335\n",
      "recall_weighted     0.755275  0.032813\n",
      "f1_weighted         0.747032  0.034126\n"
     ]
    }
   ],
   "source": [
    "from sklearn.model_selection import cross_val_score\n",
    "import numpy as np\n",
    "\n",
    "def evaluate_model_kfold(model, X, y, k=5):\n",
    "    scoring_metrics = ['accuracy', 'precision_weighted', 'recall_weighted', 'f1_weighted']\n",
    "    results = {}\n",
    "\n",
    "    for metric in scoring_metrics:\n",
    "        scores = cross_val_score(model, X, y, cv=k, scoring=metric)\n",
    "        results[metric] = {'Mean': np.mean(scores), 'Std Dev': np.std(scores)}\n",
    "\n",
    "    results_df = pd.DataFrame(results).T\n",
    "    return results_df\n",
    "\n",
    "# Perform 5-Fold Cross-Validation\n",
    "print(\"Naive Bayes (5-Fold CV) Performance:\")\n",
    "nb_results_df = evaluate_model_kfold(nb_model, X, y, k=5)\n",
    "print(nb_results_df)\n"
   ]
  },
  {
   "cell_type": "code",
   "execution_count": 91,
   "metadata": {
    "id": "s_AB3Lq_4oT2"
   },
   "outputs": [],
   "source": [
    "def calculate_metrics(y_true, y_pred):\n",
    "    true_positive = np.sum((y_true == 1) & (y_pred == 1))\n",
    "    false_positive = np.sum((y_true == 0) & (y_pred == 1))\n",
    "    false_negative = np.sum((y_true == 1) & (y_pred == 0))\n",
    "\n",
    "    accuracy = np.mean(y_pred == y_true)\n",
    "    precision = true_positive / (true_positive + false_positive) if true_positive + false_positive > 0 else 0\n",
    "    recall = true_positive / (true_positive + false_negative) if true_positive + false_negative > 0 else 0\n",
    "    f1 = 2 * (precision * recall) / (precision + recall) if precision + recall > 0 else 0\n",
    "\n",
    "    return accuracy, precision, recall, f1"
   ]
  },
  {
   "cell_type": "code",
   "execution_count": 92,
   "metadata": {
    "colab": {
     "base_uri": "https://localhost:8080/"
    },
    "id": "fAtT3eUbyV7o",
    "outputId": "0221fd7a-2f62-4d9a-c63c-cdc379920836"
   },
   "outputs": [
    {
     "name": "stdout",
     "output_type": "stream",
     "text": [
      "Perceptron Metrics:\n",
      "Accuracy     Precision   Recall    F-1 Score\n",
      "[[0.77124183 0.78571429 0.55932203 0.65346535]\n",
      " [0.79084967 0.77142857 0.52941176 0.62790698]\n",
      " [0.77124183 0.76470588 0.49056604 0.59770115]\n",
      " [0.75163399 0.675      0.51923077 0.58695652]\n",
      " [0.75       0.71875    0.43396226 0.54117647]]\n"
     ]
    }
   ],
   "source": [
    "def k_fold_cross_validation(X, y, model, k=5):\n",
    "    fold_size = len(y) // k\n",
    "    indices = np.arange(len(y))\n",
    "    np.random.shuffle(indices)\n",
    "    X_shuffled = X[indices]\n",
    "    y_shuffled = y[indices]\n",
    "\n",
    "    scores = []\n",
    "\n",
    "    for fold in range(k):\n",
    "        start = fold * fold_size\n",
    "        end = start + fold_size if fold != k - 1 else len(y)\n",
    "\n",
    "        # Split into training and validation sets\n",
    "        X_val = X_shuffled[start:end]\n",
    "        y_val = y_shuffled[start:end]\n",
    "        X_train = np.concatenate((X_shuffled[:start], X_shuffled[end:]))\n",
    "        y_train = np.concatenate((y_shuffled[:start], y_shuffled[end:]))\n",
    "\n",
    "        # Validate the model\n",
    "        predictions = model.predict(X_val)\n",
    "        predictions = np.where(predictions == -1, 0, 1)\n",
    "        metrics = calculate_metrics(y_val, predictions)\n",
    "        #accuracy = np.mean(predictions == y_val)\n",
    "        scores.append(metrics)\n",
    "\n",
    "    return np.array(scores)\n",
    "\n",
    "perceptron_predictions = k_fold_cross_validation(X, y, perceptron, k=5)\n",
    "print(f\"Perceptron Metrics:\")\n",
    "print(f\"Accuracy     Precision   Recall    F-1 Score\")\n",
    "print(perceptron_predictions)\n",
    "\n"
   ]
  },
  {
   "cell_type": "code",
   "execution_count": 94,
   "metadata": {
    "colab": {
     "base_uri": "https://localhost:8080/"
    },
    "id": "GRHD-ZsMBcV6",
    "outputId": "6150931a-9391-4ba3-c95a-fb33d7bb8060"
   },
   "outputs": [
    {
     "name": "stdout",
     "output_type": "stream",
     "text": [
      "Average Result for k-cross validation on Perceptron:\n",
      "Accuracy: 0.77\n",
      "Precision: 0.74\n",
      "Recall: 0.51\n",
      "F1-Score: 0.60\n",
      "\n"
     ]
    }
   ],
   "source": [
    "column_averages = np.mean(perceptron_predictions, axis=0)\n",
    "\n",
    "print(f\"Average Result for k-cross validation on Perceptron:\")\n",
    "print(f\"Accuracy: {column_averages[0]:.2f}\")\n",
    "print(f\"Precision: {column_averages[1]:.2f}\")\n",
    "print(f\"Recall: {column_averages[2]:.2f}\")\n",
    "print(f\"F1-Score: {column_averages[3]:.2f}\\n\")\n"
   ]
  }
 ],
 "metadata": {
  "colab": {
   "provenance": []
  },
  "kernelspec": {
   "display_name": ".venv",
   "language": "python",
   "name": "python3"
  },
  "language_info": {
   "codemirror_mode": {
    "name": "ipython",
    "version": 3
   },
   "file_extension": ".py",
   "mimetype": "text/x-python",
   "name": "python",
   "nbconvert_exporter": "python",
   "pygments_lexer": "ipython3",
   "version": "3.10.6"
  }
 },
 "nbformat": 4,
 "nbformat_minor": 0
}
